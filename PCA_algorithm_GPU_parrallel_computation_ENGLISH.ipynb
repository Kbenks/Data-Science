{
 "cells": [
  {
   "cell_type": "markdown",
   "metadata": {},
   "source": [
    "#                             ## PCA with PYOPENCL ##\n",
    "\n",
    "## Introduction\n",
    "\n",
    " # Technology choice\n",
    " \n",
    "The following project uses PYOPENCL to parallelize computations on the GPU, more precisely on the computer's iGPU.\n",
    "I chose PYOPENCL knowing that I don't have an NVIDIA card, and because of this it is not possible to use PYCUDA.\n",
    "After taking the prebuilt binary corresponding to my operating system and python's version. I made the installation Nous avons by pip install on the Anaconda prompt. Note that I did'nt need to download the opencl driver because it is integrated in the computer.\n",
    "\n",
    " # Topic choice\n",
    " \n",
    " I chose to program a PCA with pyopencl, the final objective is to obtain the variance covariance matrix that contains proper values in its' diagonal that represent the empirical variances of each axes, from the one who explains it the most to the last one.\n",
    " The goal of a PCA is to project data on a high dimension by reducting to the 2 dimensions that explains the most the data.\n"
   ]
  },
  {
   "cell_type": "markdown",
   "metadata": {},
   "source": [
    "# Environment preparation"
   ]
  },
  {
   "cell_type": "raw",
   "metadata": {},
   "source": [
    "Let us start by importing the necessary libraries"
   ]
  },
  {
   "cell_type": "code",
   "execution_count": 1,
   "metadata": {
    "collapsed": true
   },
   "outputs": [],
   "source": [
    "# Import of the necessary libraries\n",
    "import time\n",
    "import pyopencl as cl\n",
    "import numpy as np\n",
    "from __future__ import division\n",
    "from numpy import matlib \n",
    "import datetime\n",
    "import pyopencl.array\n",
    "import os\n"
   ]
  },
  {
   "cell_type": "raw",
   "metadata": {},
   "source": [
    "I set the compiler_output to 1 in order to not having the message telling that the opencl kernel was succefully vectorized"
   ]
  },
  {
   "cell_type": "code",
   "execution_count": 3,
   "metadata": {
    "collapsed": true
   },
   "outputs": [],
   "source": [
    "os.environ['PYOPENCL_COMPILER_OUTPUT'] = '1'"
   ]
  },
  {
   "cell_type": "raw",
   "metadata": {},
   "source": [
    "Selection of the opencl platforme that I want, that is to say the igpu. Thus, I set the context, it is at this level that the global memory is allocated, and the queue too."
   ]
  },
  {
   "cell_type": "code",
   "execution_count": 4,
   "metadata": {
    "collapsed": true
   },
   "outputs": [],
   "source": [
    "NAME = 'Intel(R) OpenCL' \n",
    "platformes = cl.get_platforms()\n",
    "devs = None\n",
    "for platform in platformes:\n",
    "    if platform.name == NAME:\n",
    "        devs = platform.get_devices()\n",
    "ctx = cl.Context(devs)\n",
    "queue = cl.CommandQueue(ctx)\n"
   ]
  },
  {
   "cell_type": "markdown",
   "metadata": {},
   "source": [
    "# Dataset preparation "
   ]
  },
  {
   "cell_type": "raw",
   "metadata": {},
   "source": [
    "Creation of a matrix of size (25000,40), each row is an observation and each column a variable Xi"
   ]
  },
  {
   "cell_type": "code",
   "execution_count": 5,
   "metadata": {
    "collapsed": true
   },
   "outputs": [],
   "source": [
    "# Creation of the matrix of size (width=25000,height=40) full of random values \n",
    "\n",
    "width = np.int32(25000)\n",
    "height = np.int32(40)\n",
    "a = np.random.randint(1, 140, size=(width, height)).astype(np.float32)\n"
   ]
  },
  {
   "cell_type": "raw",
   "metadata": {},
   "source": [
    "The setting of th PCA algorithm firstly needs us to specify a diagonal matrix of size 25000 containing the weight of the matrix's realizations.Going from the hypothesis that the realizations are equal, the corresponding weight is 1/width, (1/number of observations)"
   ]
  },
  {
   "cell_type": "code",
   "execution_count": 6,
   "metadata": {
    "collapsed": true
   },
   "outputs": [],
   "source": [
    "D=np.eye(width, k=0).astype(np.float32)\n",
    "D=D*1/width"
   ]
  },
  {
   "cell_type": "raw",
   "metadata": {},
   "source": [
    "I turn the diagonal to a 25000 rows vector "
   ]
  },
  {
   "cell_type": "code",
   "execution_count": 7,
   "metadata": {
    "collapsed": true
   },
   "outputs": [],
   "source": [
    "diag=np.diag(D).astype(np.float32)"
   ]
  },
  {
   "cell_type": "markdown",
   "metadata": {},
   "source": [
    "   # PCA setting"
   ]
  },
  {
   "cell_type": "markdown",
   "metadata": {},
   "source": [
    "## Transformation of the sample"
   ]
  },
  {
   "cell_type": "markdown",
   "metadata": {},
   "source": [
    " Here I need to transpose the a matrix in order to have $a^T$, then I have to transpose the weight vector in order to have  $D^T$ to compute the gravity center of the scatter plot $W=a^T*D$ "
   ]
  },
  {
   "cell_type": "code",
   "execution_count": 8,
   "metadata": {},
   "outputs": [
    {
     "name": "stderr",
     "output_type": "stream",
     "text": [
      "C:\\Users\\MKB\\Anaconda3\\lib\\site-packages\\pyopencl\\cffi_cl.py:1517: CompilerWarning: Built kernel retrieved from cache. Original from-source build had warnings:\n",
      "Build on <pyopencl.Device 'Intel(R) HD Graphics 520' on 'Intel(R) OpenCL' at 0x1a552200e80> succeeded, but said:\n",
      "\n",
      "fcl build 1 succeeded.\n",
      "bcl build succeeded.\n",
      "===========================================================================\n",
      "Build on <pyopencl.Device 'Intel(R) Core(TM) i7-6500U CPU @ 2.50GHz' on 'Intel(R) OpenCL' at 0x1a553202dc0> succeeded, but said:\n",
      "\n",
      "Compilation started\n",
      "Compilation done\n",
      "Linking started\n",
      "Linking done\n",
      "Device build started\n",
      "Device build done\n",
      "Kernel <func1> was successfully vectorized (8)\n",
      "Done.\n",
      "  warn(text, CompilerWarning)\n",
      "C:\\Users\\MKB\\Anaconda3\\lib\\site-packages\\pyopencl\\cffi_cl.py:1517: CompilerWarning: From-binary build succeeded, but resulted in non-empty logs:\n",
      "Build on <pyopencl.Device 'Intel(R) Core(TM) i7-6500U CPU @ 2.50GHz' on 'Intel(R) OpenCL' at 0x1a553202dc0> succeeded, but said:\n",
      "\n",
      "Device build started\n",
      "Device build done\n",
      "Reload Program Binary Object.\n",
      "  warn(text, CompilerWarning)\n",
      "C:\\Users\\MKB\\Anaconda3\\lib\\site-packages\\pyopencl\\cffi_cl.py:1517: CompilerWarning: Built kernel retrieved from cache. Original from-source build had warnings:\n",
      "Build on <pyopencl.Device 'Intel(R) HD Graphics 520' on 'Intel(R) OpenCL' at 0x1a552200e80> succeeded, but said:\n",
      "\n",
      "fcl build 1 succeeded.\n",
      "bcl build succeeded.\n",
      "===========================================================================\n",
      "Build on <pyopencl.Device 'Intel(R) Core(TM) i7-6500U CPU @ 2.50GHz' on 'Intel(R) OpenCL' at 0x1a553202dc0> succeeded, but said:\n",
      "\n",
      "Compilation started\n",
      "Compilation done\n",
      "Linking started\n",
      "Linking done\n",
      "Device build started\n",
      "Device build done\n",
      "Kernel <func2> was successfully vectorized (8)\n",
      "Done.\n",
      "  warn(text, CompilerWarning)\n"
     ]
    },
    {
     "name": "stdout",
     "output_type": "stream",
     "text": [
      "0:00:00.031253\n",
      "0:00:00\n",
      "0:00:00.062507\n",
      "0:00:00\n"
     ]
    }
   ],
   "source": [
    "\n",
    "  #Transposition of the weight diagonal vector\n",
    "\n",
    "#PYOPENCL\n",
    "kernel1 = \"\"\"\n",
    "__kernel void func1(__global float* diag, __global float* diagT, const unsigned int U,const unsigned int V) {\n",
    "    unsigned int i = get_global_id(0);\n",
    "    unsigned int j = get_global_id(1);\n",
    "    diagT[j + V * i] = diag[i + U * j];\n",
    "}\n",
    "\n",
    "// end of the transposition \"\"\"\n",
    "\n",
    "\n",
    "U = np.int32(25000) # Vector's size for the transposition \n",
    "V=np.int32(1)\n",
    "diag=np.diag(D).astype(np.float32)\n",
    "diagT= np.zeros([ U,V ]).astype(np.float32)\n",
    "mf = cl.mem_flags\n",
    "diag_buf = cl.Buffer(ctx, mf.READ_ONLY | mf.COPY_HOST_PTR, hostbuf=diag )\n",
    "diagT_buf = cl.Buffer(ctx, mf.WRITE_ONLY, diagT.nbytes)\n",
    "\n",
    "#Computation duration\n",
    "\n",
    "prg1 = cl.Program(ctx, kernel1).build()\n",
    "t1 = datetime.datetime.now()\n",
    "prg1.func1(queue, diagT.shape, None, diag_buf, diagT_buf, U,V)\n",
    "diagT = np.zeros([U, V]).astype(np.float32)\n",
    "cl.enqueue_copy(queue, diagT, diagT_buf)\n",
    "delta_t_GPU_transpo_diag = datetime.datetime.now() - t1\n",
    "\n",
    "### PYTHON\n",
    "t2 = datetime.datetime.now()\n",
    "diagT_py=np.transpose(diag)\n",
    "delta_t_CPU_transpo_diag = datetime.datetime.now() - t2\n",
    "\n",
    "    #Transposition of the a matrix\n",
    "\n",
    "### PYOPENCL\n",
    "kernel2 = \"\"\" \n",
    "__kernel void func2(__global int* a, __global int* b, const unsigned int width, const unsigned int height) {\n",
    "    unsigned int i = get_global_id(0);\n",
    "    unsigned int j = get_global_id(1);\n",
    "    b[j + width * i] = a[i + height * j];\n",
    "} \n",
    "\n",
    "// end of the transposition \"\"\"\n",
    "\n",
    "b = np.zeros([height, width]).astype(np.float32)\n",
    "mf = cl.mem_flags\n",
    "a_buf = cl.Buffer(ctx, mf.READ_ONLY | mf.COPY_HOST_PTR, hostbuf=a )\n",
    "b_buf = cl.Buffer(ctx, mf.WRITE_ONLY, a.nbytes)\n",
    "\n",
    "#Computation duration\n",
    "\n",
    "prg2 = cl.Program(ctx, kernel2).build()\n",
    "t3 = datetime.datetime.now()\n",
    "prg2.func2(queue, b.shape, None, a_buf, b_buf, width, height)\n",
    "b = np.zeros([height, width]).astype(np.float32)\n",
    "cl.enqueue_copy(queue, b, b_buf)\n",
    "delta_t_GPU_transpo_a = datetime.datetime.now() - t3\n",
    "\n",
    "\n",
    "### PYTHON\n",
    "t4 = datetime.datetime.now()\n",
    "b_py=np.transpose(a)\n",
    "delta_t_CPU_transpo_a = datetime.datetime.now() - t4\n",
    "\n",
    "## Computations durations results\n",
    "\n",
    "print(delta_t_GPU_transpo_diag)\n",
    "print(delta_t_CPU_transpo_diag)\n",
    "print(delta_t_GPU_transpo_a) \n",
    "print(delta_t_CPU_transpo_a)\n",
    "\n"
   ]
  },
  {
   "cell_type": "markdown",
   "metadata": {},
   "source": [
    "We can notice that the transposition of the a matrix with the GPU Nous pouvons noter que la transposition de la matrice a avec la GPU takes a little bit more time thant the other operations.\n",
    "Now, let us calculate the gravity center W, it is the product $a^TD$, the average vector of each variables\n"
   ]
  },
  {
   "cell_type": "code",
   "execution_count": 9,
   "metadata": {},
   "outputs": [
    {
     "name": "stdout",
     "output_type": "stream",
     "text": [
      "0:00:00.015628\n",
      "0:00:00.062507\n"
     ]
    },
    {
     "name": "stderr",
     "output_type": "stream",
     "text": [
      "C:\\Users\\MKB\\Anaconda3\\lib\\site-packages\\pyopencl\\cffi_cl.py:1517: CompilerWarning: Built kernel retrieved from cache. Original from-source build had warnings:\n",
      "Build on <pyopencl.Device 'Intel(R) HD Graphics 520' on 'Intel(R) OpenCL' at 0x1a552200e80> succeeded, but said:\n",
      "\n",
      "fcl build 1 succeeded.\n",
      "bcl build succeeded.\n",
      "===========================================================================\n",
      "Build on <pyopencl.Device 'Intel(R) Core(TM) i7-6500U CPU @ 2.50GHz' on 'Intel(R) OpenCL' at 0x1a553202dc0> succeeded, but said:\n",
      "\n",
      "Compilation started\n",
      "Compilation done\n",
      "Linking started\n",
      "Linking done\n",
      "Device build started\n",
      "Device build done\n",
      "Kernel <gemv> was successfully vectorized (8)\n",
      "Done.\n",
      "  warn(text, CompilerWarning)\n",
      "C:\\Users\\MKB\\Anaconda3\\lib\\site-packages\\pyopencl\\cffi_cl.py:1517: CompilerWarning: From-binary build succeeded, but resulted in non-empty logs:\n",
      "Build on <pyopencl.Device 'Intel(R) Core(TM) i7-6500U CPU @ 2.50GHz' on 'Intel(R) OpenCL' at 0x1a553202dc0> succeeded, but said:\n",
      "\n",
      "Device build started\n",
      "Device build done\n",
      "Reload Program Binary Object.\n",
      "  warn(text, CompilerWarning)\n"
     ]
    }
   ],
   "source": [
    " ### Multiplication of the initial matrix transposed b and the diagonal vector\n",
    "    \n",
    " ## PYOPENCL\n",
    "\n",
    "kernel3= \"\"\"__kernel void gemv(const __global float* b,\n",
    "\n",
    "                                    const __global float* diagT,\n",
    "\n",
    "                                    uint widthnew, uint heightnew,\n",
    "\n",
    "                                    __global float* W)\n",
    "{ // Row index\n",
    "\n",
    "    uint y = get_global_id(0);\n",
    "    if (y < heightnew) {\n",
    "        // Row pointer\n",
    "        const __global float* row = b + y * widthnew;\n",
    "        // Compute dot product  \n",
    "        float dotProduct = 0;\n",
    "        for (int x = 0; x < widthnew; ++x)\n",
    "            dotProduct += row[x] * diagT[x];\n",
    "        // Write result to global memory\n",
    "        W[y] = dotProduct;\n",
    "    }\n",
    "}\n",
    "\"\"\"\n",
    "\n",
    "widthnew=height\n",
    "heightnew=width\n",
    "W = np.zeros([widthnew, 1]).astype(np.float32)\n",
    "mf = cl.mem_flags\n",
    "b_buf = cl.Buffer(ctx, mf.READ_ONLY | mf.COPY_HOST_PTR, hostbuf=b)\n",
    "diagT_buf = cl.Buffer(ctx, mf.READ_ONLY | mf.COPY_HOST_PTR, hostbuf=diagT)\n",
    "W_buf = cl.Buffer(ctx, mf.WRITE_ONLY, heightnew*widthnew*4)\n",
    "prg3 = cl.Program(ctx, kernel3).build()\n",
    "\n",
    "t5 = datetime.datetime.now()\n",
    "prg3.gemv(queue, W.shape, None\n",
    ", b_buf\n",
    ", diagT_buf\n",
    ", widthnew\n",
    ", heightnew, W_buf)\n",
    "\n",
    "\n",
    "W = np.empty([widthnew, 1]).astype(np.float32)\n",
    "cl.enqueue_copy(queue, W, W_buf)\n",
    "delta_t_GPU_mul_1 = datetime.datetime.now() - t5\n",
    "print(delta_t_GPU_mul_1)\n",
    "\n",
    "# PYTHON\n",
    "t6 = datetime.datetime.now()\n",
    "W=b.dot(diagT)\n",
    "delta_t_CPU_mul_1 = datetime.datetime.now() - t6\n",
    "print(delta_t_CPU_mul_1)"
   ]
  },
  {
   "cell_type": "markdown",
   "metadata": {},
   "source": [
    "In this operation, we can notice that the GPU has more performance than the CPU. \n",
    "I now need to center the matrix on the gravity center like $a-W^T$, so I need to transpose the gravity center vector before"
   ]
  },
  {
   "cell_type": "code",
   "execution_count": 10,
   "metadata": {},
   "outputs": [
    {
     "name": "stdout",
     "output_type": "stream",
     "text": [
      "0:00:00.015619\n",
      "0:00:00\n"
     ]
    },
    {
     "name": "stderr",
     "output_type": "stream",
     "text": [
      "C:\\Users\\MKB\\Anaconda3\\lib\\site-packages\\pyopencl\\cffi_cl.py:1517: CompilerWarning: Built kernel retrieved from cache. Original from-source build had warnings:\n",
      "Build on <pyopencl.Device 'Intel(R) HD Graphics 520' on 'Intel(R) OpenCL' at 0x1a552200e80> succeeded, but said:\n",
      "\n",
      "fcl build 1 succeeded.\n",
      "bcl build succeeded.\n",
      "===========================================================================\n",
      "Build on <pyopencl.Device 'Intel(R) Core(TM) i7-6500U CPU @ 2.50GHz' on 'Intel(R) OpenCL' at 0x1a553202dc0> succeeded, but said:\n",
      "\n",
      "Compilation started\n",
      "Compilation done\n",
      "Linking started\n",
      "Linking done\n",
      "Device build started\n",
      "Device build done\n",
      "Kernel <func2> was successfully vectorized (8)\n",
      "Done.\n",
      "  warn(text, CompilerWarning)\n",
      "C:\\Users\\MKB\\Anaconda3\\lib\\site-packages\\pyopencl\\cffi_cl.py:1517: CompilerWarning: From-binary build succeeded, but resulted in non-empty logs:\n",
      "Build on <pyopencl.Device 'Intel(R) Core(TM) i7-6500U CPU @ 2.50GHz' on 'Intel(R) OpenCL' at 0x1a553202dc0> succeeded, but said:\n",
      "\n",
      "Device build started\n",
      "Device build done\n",
      "Reload Program Binary Object.\n",
      "  warn(text, CompilerWarning)\n"
     ]
    }
   ],
   "source": [
    "    #Transposition of the gravity center\n",
    "    \n",
    "#PYOPENCL    \n",
    "U = np.int32(1)\n",
    "V=np.int32(40)\n",
    "\n",
    "#I use the same kernel thant the one for the previous transposition\n",
    "WT= np.zeros([ U,V ]).astype(np.float32)\n",
    "mf = cl.mem_flags\n",
    "W_buf = cl.Buffer(ctx, mf.READ_ONLY | mf.COPY_HOST_PTR, hostbuf=W )\n",
    "WT_buf = cl.Buffer(ctx, mf.WRITE_ONLY, WT.nbytes)\n",
    "\n",
    "prg2 = cl.Program(ctx, kernel2).build()\n",
    "\n",
    "t7 = datetime.datetime.now()\n",
    "prg2.func2(queue, WT.shape, None, W_buf, WT_buf, U,V)\n",
    "WT = np.zeros([U, V]).astype(np.float32)\n",
    "cl.enqueue_copy(queue, WT, WT_buf)\n",
    "delta_t_GPU_transpo_W = datetime.datetime.now() - t7\n",
    "\n",
    "#PYTHON \n",
    "t8 = datetime.datetime.now()\n",
    "WT_CPU=np.transpose(W)\n",
    "delta_t_CPU_transpo_W = datetime.datetime.now() - t8\n",
    "\n",
    "print(delta_t_GPU_transpo_W)\n",
    "print(delta_t_CPU_transpo_W)"
   ]
  },
  {
   "cell_type": "markdown",
   "metadata": {},
   "source": [
    "We can notice that, for the transposition , once again, the GPU and the CPU are equally efficient.\n",
    "Now that I have the gravity center transposed, I need to center the variables by their average like $a - W^T$"
   ]
  },
  {
   "cell_type": "code",
   "execution_count": 12,
   "metadata": {},
   "outputs": [
    {
     "name": "stderr",
     "output_type": "stream",
     "text": [
      "C:\\Users\\MKB\\Anaconda3\\lib\\site-packages\\pyopencl\\cffi_cl.py:1517: CompilerWarning: Built kernel retrieved from cache. Original from-source build had warnings:\n",
      "Build on <pyopencl.Device 'Intel(R) HD Graphics 520' on 'Intel(R) OpenCL' at 0x1a552200e80> succeeded, but said:\n",
      "\n",
      "fcl build 1 succeeded.\n",
      "bcl build succeeded.\n",
      "===========================================================================\n",
      "Build on <pyopencl.Device 'Intel(R) Core(TM) i7-6500U CPU @ 2.50GHz' on 'Intel(R) OpenCL' at 0x1a553202dc0> succeeded, but said:\n",
      "\n",
      "Compilation started\n",
      "Compilation done\n",
      "Linking started\n",
      "Linking done\n",
      "Device build started\n",
      "Device build done\n",
      "Kernel <sub> was successfully vectorized (8)\n",
      "Done.\n",
      "  warn(text, CompilerWarning)\n",
      "C:\\Users\\MKB\\Anaconda3\\lib\\site-packages\\pyopencl\\cffi_cl.py:1517: CompilerWarning: From-binary build succeeded, but resulted in non-empty logs:\n",
      "Build on <pyopencl.Device 'Intel(R) Core(TM) i7-6500U CPU @ 2.50GHz' on 'Intel(R) OpenCL' at 0x1a553202dc0> succeeded, but said:\n",
      "\n",
      "Device build started\n",
      "Device build done\n",
      "Reload Program Binary Object.\n",
      "  warn(text, CompilerWarning)\n"
     ]
    },
    {
     "name": "stdout",
     "output_type": "stream",
     "text": [
      "0:00:32.270290\n",
      "0:00:00.015629\n"
     ]
    }
   ],
   "source": [
    "  ###Soustraction of the initial matrix by the transposed gravity center vector. This produces a centered matrix \n",
    "    \n",
    "#PYOPENCL\n",
    "\n",
    "a_buf = cl.Buffer(ctx, mf.READ_ONLY | mf.COPY_HOST_PTR, hostbuf=a )\n",
    "WT_buf = cl.Buffer(ctx, mf.READ_ONLY | mf.COPY_HOST_PTR, hostbuf=WT )\n",
    "Centre_buf=cl.Buffer(ctx, mf.READ_ONLY | mf.COPY_HOST_PTR, hostbuf=a )\n",
    "Centre=np.zeros([width,height]).astype(np.float32)\n",
    "prg3 = cl.Program(ctx, \"\"\"\n",
    "    __kernel void sub(const unsigned int size, __global float * a, __global float * WT, __global float * Centre) {\n",
    "\n",
    "    int i = get_global_id(1); \n",
    "    int j = get_global_id(0);\n",
    "\n",
    "    Centre[i + size * j] = 0;\n",
    "\n",
    "    for (int k = 0; k < size; k++)\n",
    "    {\n",
    "       \n",
    "     Centre[i + size * j] += a[k + size * i] - WT[j + size * k];\n",
    "\n",
    "    }\n",
    "\n",
    "    }\n",
    "    \"\"\").build()\n",
    "\n",
    "t9 = datetime.datetime.now()\n",
    "prg3.sub(queue, a.shape, None,np.int32(len(a)) ,a_buf, WT_buf, Centre_buf)\n",
    "cl.enqueue_copy(queue, Centre, Centre_buf)\n",
    "delta_t_GPU_Centré = datetime.datetime.now() - t9\n",
    "\n",
    "\n",
    "#CPU\n",
    "\n",
    "t10 = datetime.datetime.now()\n",
    "Centre_CPU=a-WT\n",
    "delta_t_CPU_Centré = datetime.datetime.now() - t10\n",
    "\n",
    "print(delta_t_GPU_Centré)\n",
    "print(delta_t_CPU_Centré)"
   ]
  },
  {
   "cell_type": "markdown",
   "metadata": {},
   "source": [
    "Here we can notice that the computation duration on the GPU is a lot more important than the CPU.\n",
    "Now, I have to compute the variance covariance matrix such as $Centre^T*D*Centre$\n",
    "\n",
    "For this I firstly need to transpose the centered matrix and then apply the multiplication"
   ]
  },
  {
   "cell_type": "markdown",
   "metadata": {},
   "source": [
    "## Variance covariance matrix computation"
   ]
  },
  {
   "cell_type": "code",
   "execution_count": 13,
   "metadata": {},
   "outputs": [
    {
     "name": "stdout",
     "output_type": "stream",
     "text": [
      "0:00:00.109388\n",
      "0:00:00\n"
     ]
    },
    {
     "name": "stderr",
     "output_type": "stream",
     "text": [
      "C:\\Users\\MKB\\Anaconda3\\lib\\site-packages\\pyopencl\\cffi_cl.py:1517: CompilerWarning: Built kernel retrieved from cache. Original from-source build had warnings:\n",
      "Build on <pyopencl.Device 'Intel(R) HD Graphics 520' on 'Intel(R) OpenCL' at 0x1a552200e80> succeeded, but said:\n",
      "\n",
      "fcl build 1 succeeded.\n",
      "bcl build succeeded.\n",
      "===========================================================================\n",
      "Build on <pyopencl.Device 'Intel(R) Core(TM) i7-6500U CPU @ 2.50GHz' on 'Intel(R) OpenCL' at 0x1a553202dc0> succeeded, but said:\n",
      "\n",
      "Compilation started\n",
      "Compilation done\n",
      "Linking started\n",
      "Linking done\n",
      "Device build started\n",
      "Device build done\n",
      "Kernel <func3> was successfully vectorized (8)\n",
      "Done.\n",
      "  warn(text, CompilerWarning)\n",
      "C:\\Users\\MKB\\Anaconda3\\lib\\site-packages\\pyopencl\\cffi_cl.py:1517: CompilerWarning: From-binary build succeeded, but resulted in non-empty logs:\n",
      "Build on <pyopencl.Device 'Intel(R) Core(TM) i7-6500U CPU @ 2.50GHz' on 'Intel(R) OpenCL' at 0x1a553202dc0> succeeded, but said:\n",
      "\n",
      "Device build started\n",
      "Device build done\n",
      "Reload Program Binary Object.\n",
      "  warn(text, CompilerWarning)\n"
     ]
    }
   ],
   "source": [
    "  ## Transposition of the centered matrix\n",
    "\n",
    "#PYOPENCL    \n",
    "kernel4 = \"\"\" \n",
    "__kernel void func3(__global int* a, __global int* b, const unsigned int width, const unsigned int height) {\n",
    "    unsigned int i = get_global_id(0);\n",
    "    unsigned int j = get_global_id(1);\n",
    "    b[j + width * i] = a[i + height * j];\n",
    "} \n",
    "\n",
    "// end of the transposition \"\"\"   \n",
    "\n",
    "Centre_T = np.zeros([height, width]).astype(np.float32)\n",
    "mf = cl.mem_flags\n",
    "Centre_buf = cl.Buffer(ctx, mf.READ_ONLY | mf.COPY_HOST_PTR, hostbuf=Centre )\n",
    "Centre_T_buf = cl.Buffer(ctx, mf.WRITE_ONLY, Centre.nbytes)\n",
    "\n",
    "\n",
    "prg5 = cl.Program(ctx, kernel4).build()\n",
    "\n",
    "t11 = datetime.datetime.now()\n",
    "prg5.func3(queue, Centre_T.shape, None, Centre_buf, Centre_T_buf, width, height)\n",
    "Centre_T = np.zeros([height, width]).astype(np.float32)\n",
    "cl.enqueue_copy(queue, Centre_T, Centre_T_buf)\n",
    "delta_t_GPU_Centré_Transpo = datetime.datetime.now() - t11\n",
    "\n",
    "#CPU\n",
    "t12 = datetime.datetime.now()\n",
    "Centre_T_CPU= np.transpose(Centre)\n",
    "delta_t_CPU_Centré_Transpo = datetime.datetime.now() - t12\n",
    "\n",
    "print(delta_t_GPU_Centré_Transpo)\n",
    "print(delta_t_CPU_Centré_Transpo)\n"
   ]
  },
  {
   "cell_type": "markdown",
   "metadata": {},
   "source": [
    "We notice here a much better computation duration for the CPU than the GPU.\n",
    "Let us proceed now to the multiplication for the Variance covariance matrix, I split this calculation by a multiplication between the transposed center matrix and D vector. The intermidiate vector produced by this is of a size (40,1) and the final resul, the variance covariance matrix is a square matrix (40,40) "
   ]
  },
  {
   "cell_type": "code",
   "execution_count": 20,
   "metadata": {},
   "outputs": [
    {
     "name": "stdout",
     "output_type": "stream",
     "text": [
      "0:00:00\n",
      "0:00:00\n"
     ]
    },
    {
     "name": "stderr",
     "output_type": "stream",
     "text": [
      "C:\\Users\\MKB\\Anaconda3\\lib\\site-packages\\pyopencl\\cffi_cl.py:1517: CompilerWarning: Built kernel retrieved from cache. Original from-source build had warnings:\n",
      "Build on <pyopencl.Device 'Intel(R) HD Graphics 520' on 'Intel(R) OpenCL' at 0x1a552200e80> succeeded, but said:\n",
      "\n",
      "fcl build 1 succeeded.\n",
      "bcl build succeeded.\n",
      "===========================================================================\n",
      "Build on <pyopencl.Device 'Intel(R) Core(TM) i7-6500U CPU @ 2.50GHz' on 'Intel(R) OpenCL' at 0x1a553202dc0> succeeded, but said:\n",
      "\n",
      "Compilation started\n",
      "Compilation done\n",
      "Linking started\n",
      "Linking done\n",
      "Device build started\n",
      "Device build done\n",
      "Kernel <gemv> was successfully vectorized (8)\n",
      "Done.\n",
      "  warn(text, CompilerWarning)\n",
      "C:\\Users\\MKB\\Anaconda3\\lib\\site-packages\\pyopencl\\cffi_cl.py:1517: CompilerWarning: From-binary build succeeded, but resulted in non-empty logs:\n",
      "Build on <pyopencl.Device 'Intel(R) Core(TM) i7-6500U CPU @ 2.50GHz' on 'Intel(R) OpenCL' at 0x1a553202dc0> succeeded, but said:\n",
      "\n",
      "Device build started\n",
      "Device build done\n",
      "Reload Program Binary Object.\n",
      "  warn(text, CompilerWarning)\n"
     ]
    }
   ],
   "source": [
    "# Computation of the variance covariance matrix\n",
    "\n",
    "#1st part\n",
    "\n",
    "#PYOPENCL\n",
    "#Let us use the Kernel3 of mtrix vector multiplication \n",
    "\n",
    "widthnew=height\n",
    "heightnew=width\n",
    "V1 = np.zeros([widthnew, 1]).astype(np.float32)\n",
    "mf = cl.mem_flags\n",
    "Centre_T_buf = cl.Buffer(ctx, mf.READ_ONLY | mf.COPY_HOST_PTR, hostbuf=Centre_T)\n",
    "diagT_buf = cl.Buffer(ctx, mf.READ_ONLY | mf.COPY_HOST_PTR, hostbuf=diagT)\n",
    "V1_buf = cl.Buffer(ctx, mf.WRITE_ONLY, heightnew*widthnew*4)\n",
    "prg6 = cl.Program(ctx, kernel3).build()\n",
    "\n",
    "\n",
    "prg6.gemv(queue, V1.shape, None\n",
    ", Centre_T_buf\n",
    ", diagT_buf\n",
    ", widthnew\n",
    ", heightnew, V1_buf)\n",
    "\n",
    "V1 = np.empty([widthnew, 1]).astype(np.float32)\n",
    "t13 = datetime.datetime.now()\n",
    "cl.enqueue_copy(queue, V1, V1_buf)\n",
    "delta_t_GPU_mul_2 = datetime.datetime.now() - t13\n",
    "\n",
    "\n",
    "#CPU\n",
    "t14 = datetime.datetime.now()\n",
    "V1= Centre_T.dot(diagT)\n",
    "delta_t_CPU_mul_2 = datetime.datetime.now() - t14\n",
    "\n",
    "print(delta_t_GPU_mul_2)\n",
    "print(delta_t_CPU_mul_2)"
   ]
  },
  {
   "cell_type": "markdown",
   "metadata": {},
   "source": [
    "We can notice that the computation duration is equivalent for both the GPU and CPU. Let use move to the second part of the calculation. We have a vector of size (40,1), once the multiplication with the centered matrix size (25000,40) done, we will obtain a square matrix "
   ]
  },
  {
   "cell_type": "code",
   "execution_count": 19,
   "metadata": {},
   "outputs": [
    {
     "name": "stdout",
     "output_type": "stream",
     "text": [
      "0:00:00.015629\n",
      "(40, 40)\n"
     ]
    },
    {
     "name": "stderr",
     "output_type": "stream",
     "text": [
      "C:\\Users\\MKB\\Anaconda3\\lib\\site-packages\\pyopencl\\cffi_cl.py:1517: CompilerWarning: Built kernel retrieved from cache. Original from-source build had warnings:\n",
      "Build on <pyopencl.Device 'Intel(R) HD Graphics 520' on 'Intel(R) OpenCL' at 0x1a552200e80> succeeded, but said:\n",
      "\n",
      "fcl build 1 succeeded.\n",
      "bcl build succeeded.\n",
      "===========================================================================\n",
      "Build on <pyopencl.Device 'Intel(R) Core(TM) i7-6500U CPU @ 2.50GHz' on 'Intel(R) OpenCL' at 0x1a553202dc0> succeeded, but said:\n",
      "\n",
      "Compilation started\n",
      "Compilation done\n",
      "Linking started\n",
      "Linking done\n",
      "Device build started\n",
      "Device build done\n",
      "Kernel <gemv2> was successfully vectorized (8)\n",
      "Done.\n",
      "  warn(text, CompilerWarning)\n",
      "C:\\Users\\MKB\\Anaconda3\\lib\\site-packages\\pyopencl\\cffi_cl.py:1517: CompilerWarning: From-binary build succeeded, but resulted in non-empty logs:\n",
      "Build on <pyopencl.Device 'Intel(R) Core(TM) i7-6500U CPU @ 2.50GHz' on 'Intel(R) OpenCL' at 0x1a553202dc0> succeeded, but said:\n",
      "\n",
      "Device build started\n",
      "Device build done\n",
      "Reload Program Binary Object.\n",
      "  warn(text, CompilerWarning)\n"
     ]
    },
    {
     "ename": "ValueError",
     "evalue": "shapes (40,1) and (25000,40) not aligned: 1 (dim 1) != 25000 (dim 0)",
     "output_type": "error",
     "traceback": [
      "\u001b[1;31m---------------------------------------------------------------------------\u001b[0m",
      "\u001b[1;31mValueError\u001b[0m                                Traceback (most recent call last)",
      "\u001b[1;32m<ipython-input-19-cd25b6e35abb>\u001b[0m in \u001b[0;36m<module>\u001b[1;34m()\u001b[0m\n\u001b[0;32m     50\u001b[0m \u001b[0mprint\u001b[0m\u001b[1;33m(\u001b[0m\u001b[0mV\u001b[0m\u001b[1;33m.\u001b[0m\u001b[0mshape\u001b[0m\u001b[1;33m)\u001b[0m\u001b[1;33m\u001b[0m\u001b[0m\n\u001b[0;32m     51\u001b[0m \u001b[1;33m\u001b[0m\u001b[0m\n\u001b[1;32m---> 52\u001b[1;33m \u001b[0mtest\u001b[0m\u001b[1;33m=\u001b[0m \u001b[0mV1\u001b[0m\u001b[1;33m.\u001b[0m\u001b[0mdot\u001b[0m\u001b[1;33m(\u001b[0m\u001b[0mCentre\u001b[0m\u001b[1;33m)\u001b[0m\u001b[1;33m\u001b[0m\u001b[0m\n\u001b[0m",
      "\u001b[1;31mValueError\u001b[0m: shapes (40,1) and (25000,40) not aligned: 1 (dim 1) != 25000 (dim 0)"
     ]
    }
   ],
   "source": [
    "#2nd part\n",
    "\n",
    "#PYOPENCL\n",
    "\n",
    "kernel5= \"\"\"__kernel void gemv2(const __global float* V1,\n",
    "\n",
    "                                    const __global float* CENTRE,\n",
    "\n",
    "                                    uint widthnew, uint heightnew,\n",
    "\n",
    "                                    __global float* V)\n",
    "{ // Row index\n",
    "\n",
    "    uint y = get_global_id(0);\n",
    "    if (y < heightnew) {\n",
    "        // Row pointer\n",
    "        const __global float* row = V1 + y * widthnew;\n",
    "        // Compute dot product  \n",
    "        float dotProduct = 0;\n",
    "        for (int x = 0; x < widthnew; ++x)\n",
    "            dotProduct += row[x] * CENTRE[x];\n",
    "        // Write result to global memory\n",
    "        V[y] = dotProduct;\n",
    "    }\n",
    "}\n",
    "\"\"\"\n",
    "#I set the new row size equal to the old column size and the new column size equal to the old row size\n",
    "widthnew=height\n",
    "heightnew=width\n",
    "V = np.zeros([widthnew, widthnew]).astype(np.float32)\n",
    "mf = cl.mem_flags\n",
    "V1_buf = cl.Buffer(ctx, mf.READ_ONLY | mf.COPY_HOST_PTR, hostbuf=V1)\n",
    "Centre_buf = cl.Buffer(ctx, mf.READ_ONLY | mf.COPY_HOST_PTR, hostbuf=Centre)\n",
    "V_buf = cl.Buffer(ctx, mf.WRITE_ONLY, widthnew*widthnew*4)\n",
    "prg7 = cl.Program(ctx, kernel5).build()\n",
    "\n",
    "t15 = datetime.datetime.now()\n",
    "prg7.gemv2(queue, V.shape, None\n",
    ", V1_buf\n",
    ", Centre_buf\n",
    ", widthnew\n",
    ", heightnew, V_buf)\n",
    "\n",
    "\n",
    "V = np.empty([widthnew, widthnew]).astype(np.float32)\n",
    "cl.enqueue_copy(queue, V, V_buf)\n",
    "delta_t_GPU_mul_3 = datetime.datetime.now() - t15\n",
    "\n",
    "print(delta_t_GPU_mul_3)\n",
    "print(V.shape)\n",
    "\n",
    "# Multiplication on the CPU\n",
    "test= V1.dot(Centre)"
   ]
  },
  {
   "cell_type": "markdown",
   "metadata": {},
   "source": [
    "Notice that the computation could'nt been done on the CPU on the opposite it has been done on the GPU"
   ]
  },
  {
   "cell_type": "markdown",
   "metadata": {},
   "source": [
    "## Conclusion"
   ]
  },
  {
   "cell_type": "code",
   "execution_count": 18,
   "metadata": {},
   "outputs": [
    {
     "name": "stdout",
     "output_type": "stream",
     "text": [
      "[[  2.00978137e+11              inf              inf ...,   0.00000000e+00\n",
      "    0.00000000e+00   0.00000000e+00]\n",
      " [  4.20389539e-44   0.00000000e+00   3.92363570e-44 ...,   5.89946653e-43\n",
      "    3.25913779e+12   5.89946653e-43]\n",
      " [  1.40129846e-45   1.96181785e-44   4.20389539e-44 ...,   5.89946653e-43\n",
      "    2.25132119e+14   5.89946653e-43]\n",
      " ..., \n",
      " [  1.27378597e+14   5.89946653e-43   1.27379133e+14 ...,   5.89946653e-43\n",
      "    1.27388797e+14   5.89946653e-43]\n",
      " [  1.27389334e+14   5.89946653e-43   1.27389871e+14 ...,   5.89946653e-43\n",
      "    1.27399535e+14   5.89946653e-43]\n",
      " [  1.27400071e+14   5.89946653e-43   1.27400608e+14 ...,   5.89946653e-43\n",
      "    1.27410809e+14   5.89946653e-43]]\n"
     ]
    }
   ],
   "source": [
    "#We indeed obtain a square matrix (40,40) with the GPU, our variables size with a low computation duration.\n",
    "#Let us display the variance covariance matrix, its' diagonal gives the empirical variance of each X. \n",
    "#It is the goal of the PCA to decide on which axes (2 dimensions) to project the data.\n",
    "\n",
    "print(V)\n"
   ]
  },
  {
   "cell_type": "markdown",
   "metadata": {},
   "source": [
    "Notice that I wasn't able to produce V with a classic CPU operation beacause of a data broadcast problem.\n",
    "Let us see  the total computation duration for the GPU and CPU\n"
   ]
  },
  {
   "cell_type": "code",
   "execution_count": 21,
   "metadata": {
    "collapsed": true
   },
   "outputs": [],
   "source": [
    "#GPU\n",
    "Temps_GPU= delta_t_GPU_transpo_diag + delta_t_GPU_transpo_a + delta_t_GPU_mul_1+ delta_t_GPU_transpo_W + delta_t_GPU_Centré + delta_t_GPU_Centré_Transpo + delta_t_GPU_mul_2 + delta_t_GPU_mul_3\n",
    "\n",
    "#CPU\n",
    "Temps_CPU= delta_t_CPU_transpo_diag + delta_t_CPU_transpo_a + delta_t_CPU_mul_1+ delta_t_CPU_transpo_W + delta_t_CPU_Centré + delta_t_CPU_Centré_Transpo + delta_t_CPU_mul_2 \n",
    " \n",
    "\n"
   ]
  },
  {
   "cell_type": "code",
   "execution_count": 22,
   "metadata": {},
   "outputs": [
    {
     "name": "stdout",
     "output_type": "stream",
     "text": [
      "0:00:32.520314\n",
      "0:00:00.078136\n"
     ]
    }
   ],
   "source": [
    "print(Temps_GPU)\n",
    "print(Temps_CPU)"
   ]
  },
  {
   "cell_type": "raw",
   "metadata": {
    "collapsed": true
   },
   "source": [
    "We can see that the CPU computation duration is less important than the GPU's. But the variance covariance matrix could'nt produced with the CPU. "
   ]
  },
  {
   "cell_type": "code",
   "execution_count": null,
   "metadata": {
    "collapsed": true
   },
   "outputs": [],
   "source": []
  }
 ],
 "metadata": {
  "kernelspec": {
   "display_name": "Python 3",
   "language": "python",
   "name": "python3"
  },
  "language_info": {
   "codemirror_mode": {
    "name": "ipython",
    "version": 3
   },
   "file_extension": ".py",
   "mimetype": "text/x-python",
   "name": "python",
   "nbconvert_exporter": "python",
   "pygments_lexer": "ipython3",
   "version": "3.6.3"
  }
 },
 "nbformat": 4,
 "nbformat_minor": 2
}
