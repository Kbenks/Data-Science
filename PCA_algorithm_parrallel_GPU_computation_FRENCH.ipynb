{
 "cells": [
  {
   "cell_type": "markdown",
   "metadata": {},
   "source": [
    "#                             ## ACP AVEC PYOPENCL ##\n",
    "\n",
    "## Introduction\n",
    "\n",
    " # Choix de technologie\n",
    " \n",
    "Le projet qui suit utilise PYOPENCL pour paralléliser les calculs sur la GPU, ou plutôt la iGPU de l'ordinateur.\n",
    "Nous avons opté pour PYOPENCL car, ne disposant pas de carte NVIDIA, nous ne pouvions pas utiliser PYCUDA.\n",
    "Après avoir récupéré le prebuilt binary correspondant au système d'exploitation de notre machine et à la version de python.Nous avons procédé à l'installation par pip install sur le prompt Anaconda. Notons que nous n'avons pas eu besoin de charger le driver opencl pour notre CPU car il est déjà intégré.\n",
    "\n",
    " # Choix du Sujet\n",
    " \n",
    " Nous avons choisie de coder une ACP avec pyopencl, avec pour but final de ressortir la diagonale de la matrice de variance covariance contenant les valeurs propres représentant les variances empiriques de chaque axe,de celui qui l'explique le plus à celui qui l'explique le moins.\n",
    " L'intérêt d'une ACP est de projeter des données sur une grande dimension par réduction aux 2 dimensions qui explique le mieux la donnée.\n"
   ]
  },
  {
   "cell_type": "markdown",
   "metadata": {},
   "source": [
    "# Préparation de l'environnement"
   ]
  },
  {
   "cell_type": "raw",
   "metadata": {},
   "source": [
    "Commençons par importer les modules nécessaires"
   ]
  },
  {
   "cell_type": "code",
   "execution_count": 1,
   "metadata": {
    "collapsed": true
   },
   "outputs": [],
   "source": [
    "# Import des modules nécessaires à la réalisation du projet\n",
    "import time\n",
    "import pyopencl as cl\n",
    "import numpy as np\n",
    "from __future__ import division\n",
    "from numpy import matlib \n",
    "import datetime\n",
    "import pyopencl.array\n",
    "import os\n"
   ]
  },
  {
   "cell_type": "raw",
   "metadata": {},
   "source": [
    "On fixe le compiler_output à 1 pour que le message du compileur disant que le opencl kernel \n",
    "a été vectorisé\\optimisé n'apparaîsse pas"
   ]
  },
  {
   "cell_type": "code",
   "execution_count": 3,
   "metadata": {
    "collapsed": true
   },
   "outputs": [],
   "source": [
    "os.environ['PYOPENCL_COMPILER_OUTPUT'] = '1'"
   ]
  },
  {
   "cell_type": "raw",
   "metadata": {},
   "source": [
    "Sélection de la plateforme opencl désirée, en locurrence ici le igpu de l'ordinateur. Aussi,Fixation du contexte c'est à ce niveau qu'est allouée la mémoire global et de la file d'attente (la queue)"
   ]
  },
  {
   "cell_type": "code",
   "execution_count": 4,
   "metadata": {
    "collapsed": true
   },
   "outputs": [],
   "source": [
    "NAME = 'Intel(R) OpenCL' \n",
    "platformes = cl.get_platforms()\n",
    "devs = None\n",
    "for platform in platformes:\n",
    "    if platform.name == NAME:\n",
    "        devs = platform.get_devices()\n",
    "ctx = cl.Context(devs)\n",
    "queue = cl.CommandQueue(ctx)\n"
   ]
  },
  {
   "cell_type": "markdown",
   "metadata": {},
   "source": [
    "# Préparation du jeu de données"
   ]
  },
  {
   "cell_type": "raw",
   "metadata": {},
   "source": [
    "Création d'une matrice de dimension (25000,40),chaque ligne correspond à une observation et chaque colonne à une variable Xi"
   ]
  },
  {
   "cell_type": "code",
   "execution_count": 5,
   "metadata": {
    "collapsed": true
   },
   "outputs": [],
   "source": [
    "# Création de la matrice a de dimension (width=25000,height=40) remplie de valeurs de façon aléatoire\n",
    "\n",
    "width = np.int32(25000)\n",
    "height = np.int32(40)\n",
    "a = np.random.randint(1, 140, size=(width, height)).astype(np.float32)\n"
   ]
  },
  {
   "cell_type": "raw",
   "metadata": {},
   "source": [
    "La mise en place de l'algorithme de l'ACP nécessite dans un premier temps de spécifier une matrice diagonale de taille 25000 contenant le poids des réalisations de la matrice. Partant de la supposition que ces réalisations sont égales , le poids correspond à 1/width, (1/nombre d'observations)"
   ]
  },
  {
   "cell_type": "code",
   "execution_count": 6,
   "metadata": {},
   "outputs": [],
   "source": [
    "D=np.eye(width, k=0).astype(np.float32)\n",
    "D=D*1/width"
   ]
  },
  {
   "cell_type": "raw",
   "metadata": {},
   "source": [
    "Nous faisons de la diagonale un vecteur de 25000 lignes"
   ]
  },
  {
   "cell_type": "code",
   "execution_count": 7,
   "metadata": {
    "collapsed": true
   },
   "outputs": [],
   "source": [
    "diag=np.diag(D).astype(np.float32)"
   ]
  },
  {
   "cell_type": "markdown",
   "metadata": {},
   "source": [
    "   # Mise en place de l'ACP"
   ]
  },
  {
   "cell_type": "markdown",
   "metadata": {},
   "source": [
    "## Transformation de l'échantillon"
   ]
  },
  {
   "cell_type": "markdown",
   "metadata": {},
   "source": [
    " Ici nous devons transposer notre vecteur de la diagonale des poids et la matrice a de manière à avoir $a^T$, par la suite il faut transposer le vecteur des poids de manière à avoir $D^T$ pour pouvoir calculer le centre de gravité de notre nuage de points tel que $W=a^T*D$ "
   ]
  },
  {
   "cell_type": "code",
   "execution_count": 8,
   "metadata": {},
   "outputs": [
    {
     "name": "stderr",
     "output_type": "stream",
     "text": [
      "C:\\Users\\MKB\\Anaconda3\\lib\\site-packages\\pyopencl\\cffi_cl.py:1517: CompilerWarning: Built kernel retrieved from cache. Original from-source build had warnings:\n",
      "Build on <pyopencl.Device 'Intel(R) HD Graphics 520' on 'Intel(R) OpenCL' at 0x1a552200e80> succeeded, but said:\n",
      "\n",
      "fcl build 1 succeeded.\n",
      "bcl build succeeded.\n",
      "===========================================================================\n",
      "Build on <pyopencl.Device 'Intel(R) Core(TM) i7-6500U CPU @ 2.50GHz' on 'Intel(R) OpenCL' at 0x1a553202dc0> succeeded, but said:\n",
      "\n",
      "Compilation started\n",
      "Compilation done\n",
      "Linking started\n",
      "Linking done\n",
      "Device build started\n",
      "Device build done\n",
      "Kernel <func1> was successfully vectorized (8)\n",
      "Done.\n",
      "  warn(text, CompilerWarning)\n",
      "C:\\Users\\MKB\\Anaconda3\\lib\\site-packages\\pyopencl\\cffi_cl.py:1517: CompilerWarning: From-binary build succeeded, but resulted in non-empty logs:\n",
      "Build on <pyopencl.Device 'Intel(R) Core(TM) i7-6500U CPU @ 2.50GHz' on 'Intel(R) OpenCL' at 0x1a553202dc0> succeeded, but said:\n",
      "\n",
      "Device build started\n",
      "Device build done\n",
      "Reload Program Binary Object.\n",
      "  warn(text, CompilerWarning)\n",
      "C:\\Users\\MKB\\Anaconda3\\lib\\site-packages\\pyopencl\\cffi_cl.py:1517: CompilerWarning: Built kernel retrieved from cache. Original from-source build had warnings:\n",
      "Build on <pyopencl.Device 'Intel(R) HD Graphics 520' on 'Intel(R) OpenCL' at 0x1a552200e80> succeeded, but said:\n",
      "\n",
      "fcl build 1 succeeded.\n",
      "bcl build succeeded.\n",
      "===========================================================================\n",
      "Build on <pyopencl.Device 'Intel(R) Core(TM) i7-6500U CPU @ 2.50GHz' on 'Intel(R) OpenCL' at 0x1a553202dc0> succeeded, but said:\n",
      "\n",
      "Compilation started\n",
      "Compilation done\n",
      "Linking started\n",
      "Linking done\n",
      "Device build started\n",
      "Device build done\n",
      "Kernel <func2> was successfully vectorized (8)\n",
      "Done.\n",
      "  warn(text, CompilerWarning)\n"
     ]
    },
    {
     "name": "stdout",
     "output_type": "stream",
     "text": [
      "0:00:00.031253\n",
      "0:00:00\n",
      "0:00:00.062507\n",
      "0:00:00\n"
     ]
    }
   ],
   "source": [
    "\n",
    "  #Transposition du vecteur de la diagonale contenant les poids\n",
    "\n",
    "kernel1 = \"\"\"\n",
    "__kernel void func1(__global float* diag, __global float* diagT, const unsigned int U,const unsigned int V) {\n",
    "    unsigned int i = get_global_id(0);\n",
    "    unsigned int j = get_global_id(1);\n",
    "    diagT[j + V * i] = diag[i + U * j];\n",
    "}\n",
    "\n",
    "// fin de la transposition \"\"\"\n",
    "\n",
    "\n",
    "U = np.int32(25000) # Taille du vecteur pour la transposition\n",
    "V=np.int32(1)\n",
    "diag=np.diag(D).astype(np.float32)\n",
    "diagT= np.zeros([ U,V ]).astype(np.float32)\n",
    "mf = cl.mem_flags\n",
    "diag_buf = cl.Buffer(ctx, mf.READ_ONLY | mf.COPY_HOST_PTR, hostbuf=diag )\n",
    "diagT_buf = cl.Buffer(ctx, mf.WRITE_ONLY, diagT.nbytes)\n",
    "\n",
    "#Temps de calcul\n",
    "\n",
    "prg1 = cl.Program(ctx, kernel1).build()\n",
    "t1 = datetime.datetime.now()\n",
    "prg1.func1(queue, diagT.shape, None, diag_buf, diagT_buf, U,V)\n",
    "diagT = np.zeros([U, V]).astype(np.float32)\n",
    "cl.enqueue_copy(queue, diagT, diagT_buf)\n",
    "delta_t_GPU_transpo_diag = datetime.datetime.now() - t1\n",
    "\n",
    "### PYTHON\n",
    "t2 = datetime.datetime.now()\n",
    "diagT_py=np.transpose(diag)\n",
    "delta_t_CPU_transpo_diag = datetime.datetime.now() - t2\n",
    "\n",
    "    #Transposition de la matrice a\n",
    "\n",
    "### PYOPENCL\n",
    "kernel2 = \"\"\" \n",
    "__kernel void func2(__global int* a, __global int* b, const unsigned int width, const unsigned int height) {\n",
    "    unsigned int i = get_global_id(0);\n",
    "    unsigned int j = get_global_id(1);\n",
    "    b[j + width * i] = a[i + height * j];\n",
    "} \n",
    "\n",
    "// fin de la transposition \"\"\"\n",
    "\n",
    "b = np.zeros([height, width]).astype(np.float32)\n",
    "mf = cl.mem_flags\n",
    "a_buf = cl.Buffer(ctx, mf.READ_ONLY | mf.COPY_HOST_PTR, hostbuf=a )\n",
    "b_buf = cl.Buffer(ctx, mf.WRITE_ONLY, a.nbytes)\n",
    "\n",
    "#Temps de calcul\n",
    "\n",
    "prg2 = cl.Program(ctx, kernel2).build()\n",
    "t3 = datetime.datetime.now()\n",
    "prg2.func2(queue, b.shape, None, a_buf, b_buf, width, height)\n",
    "b = np.zeros([height, width]).astype(np.float32)\n",
    "cl.enqueue_copy(queue, b, b_buf)\n",
    "delta_t_GPU_transpo_a = datetime.datetime.now() - t3\n",
    "\n",
    "\n",
    "### PYTHON\n",
    "t4 = datetime.datetime.now()\n",
    "b_py=np.transpose(a)\n",
    "delta_t_CPU_transpo_a = datetime.datetime.now() - t4\n",
    "\n",
    "## Résultats des temps de calcul\n",
    "\n",
    "print(delta_t_GPU_transpo_diag)\n",
    "print(delta_t_CPU_transpo_diag)\n",
    "print(delta_t_GPU_transpo_a) \n",
    "print(delta_t_CPU_transpo_a)\n",
    "\n"
   ]
  },
  {
   "cell_type": "markdown",
   "metadata": {},
   "source": [
    "Nous pouvons noter que la transposition de la matrice a avec la GPU côute un peu plus de temps que les autres opérations.\n",
    "Maintenant calculons le centre de gravité W, qui correspond au produit $a^TD$  vecteur des moyennes de caque variables\n"
   ]
  },
  {
   "cell_type": "code",
   "execution_count": 9,
   "metadata": {},
   "outputs": [
    {
     "name": "stdout",
     "output_type": "stream",
     "text": [
      "0:00:00.015628\n",
      "0:00:00.062507\n"
     ]
    },
    {
     "name": "stderr",
     "output_type": "stream",
     "text": [
      "C:\\Users\\MKB\\Anaconda3\\lib\\site-packages\\pyopencl\\cffi_cl.py:1517: CompilerWarning: Built kernel retrieved from cache. Original from-source build had warnings:\n",
      "Build on <pyopencl.Device 'Intel(R) HD Graphics 520' on 'Intel(R) OpenCL' at 0x1a552200e80> succeeded, but said:\n",
      "\n",
      "fcl build 1 succeeded.\n",
      "bcl build succeeded.\n",
      "===========================================================================\n",
      "Build on <pyopencl.Device 'Intel(R) Core(TM) i7-6500U CPU @ 2.50GHz' on 'Intel(R) OpenCL' at 0x1a553202dc0> succeeded, but said:\n",
      "\n",
      "Compilation started\n",
      "Compilation done\n",
      "Linking started\n",
      "Linking done\n",
      "Device build started\n",
      "Device build done\n",
      "Kernel <gemv> was successfully vectorized (8)\n",
      "Done.\n",
      "  warn(text, CompilerWarning)\n",
      "C:\\Users\\MKB\\Anaconda3\\lib\\site-packages\\pyopencl\\cffi_cl.py:1517: CompilerWarning: From-binary build succeeded, but resulted in non-empty logs:\n",
      "Build on <pyopencl.Device 'Intel(R) Core(TM) i7-6500U CPU @ 2.50GHz' on 'Intel(R) OpenCL' at 0x1a553202dc0> succeeded, but said:\n",
      "\n",
      "Device build started\n",
      "Device build done\n",
      "Reload Program Binary Object.\n",
      "  warn(text, CompilerWarning)\n"
     ]
    }
   ],
   "source": [
    " ### Multiplication de la matrice initiale transposée b et du vecteur des diagonales\n",
    "    \n",
    " ## PYOPENCL\n",
    "\n",
    "kernel3= \"\"\"__kernel void gemv(const __global float* b,\n",
    "\n",
    "                                    const __global float* diagT,\n",
    "\n",
    "                                    uint widthnew, uint heightnew,\n",
    "\n",
    "                                    __global float* W)\n",
    "{ // Row index\n",
    "\n",
    "    uint y = get_global_id(0);\n",
    "    if (y < heightnew) {\n",
    "        // Row pointer\n",
    "        const __global float* row = b + y * widthnew;\n",
    "        // Compute dot product  \n",
    "        float dotProduct = 0;\n",
    "        for (int x = 0; x < widthnew; ++x)\n",
    "            dotProduct += row[x] * diagT[x];\n",
    "        // Write result to global memory\n",
    "        W[y] = dotProduct;\n",
    "    }\n",
    "}\n",
    "\"\"\"\n",
    "\n",
    "widthnew=height\n",
    "heightnew=width\n",
    "W = np.zeros([widthnew, 1]).astype(np.float32)\n",
    "mf = cl.mem_flags\n",
    "b_buf = cl.Buffer(ctx, mf.READ_ONLY | mf.COPY_HOST_PTR, hostbuf=b)\n",
    "diagT_buf = cl.Buffer(ctx, mf.READ_ONLY | mf.COPY_HOST_PTR, hostbuf=diagT)\n",
    "W_buf = cl.Buffer(ctx, mf.WRITE_ONLY, heightnew*widthnew*4)\n",
    "prg3 = cl.Program(ctx, kernel3).build()\n",
    "\n",
    "t5 = datetime.datetime.now()\n",
    "prg3.gemv(queue, W.shape, None\n",
    ", b_buf\n",
    ", diagT_buf\n",
    ", widthnew\n",
    ", heightnew, W_buf)\n",
    "\n",
    "\n",
    "W = np.empty([widthnew, 1]).astype(np.float32)\n",
    "cl.enqueue_copy(queue, W, W_buf)\n",
    "delta_t_GPU_mul_1 = datetime.datetime.now() - t5\n",
    "print(delta_t_GPU_mul_1)\n",
    "\n",
    "# PYTHON\n",
    "t6 = datetime.datetime.now()\n",
    "W=b.dot(diagT)\n",
    "delta_t_CPU_mul_1 = datetime.datetime.now() - t6\n",
    "print(delta_t_CPU_mul_1)"
   ]
  },
  {
   "cell_type": "markdown",
   "metadata": {},
   "source": [
    "Pour cette opération, nous constatons que la GPU est plus performante que le calcul sur CPU. \n",
    "Nous devons maintenant centrer notre matrice sur le centre de gravité tel que $a-W^T$, il nous faut donc transposer le vecteur de centre de gravité avant"
   ]
  },
  {
   "cell_type": "code",
   "execution_count": 10,
   "metadata": {},
   "outputs": [
    {
     "name": "stdout",
     "output_type": "stream",
     "text": [
      "0:00:00.015619\n",
      "0:00:00\n"
     ]
    },
    {
     "name": "stderr",
     "output_type": "stream",
     "text": [
      "C:\\Users\\MKB\\Anaconda3\\lib\\site-packages\\pyopencl\\cffi_cl.py:1517: CompilerWarning: Built kernel retrieved from cache. Original from-source build had warnings:\n",
      "Build on <pyopencl.Device 'Intel(R) HD Graphics 520' on 'Intel(R) OpenCL' at 0x1a552200e80> succeeded, but said:\n",
      "\n",
      "fcl build 1 succeeded.\n",
      "bcl build succeeded.\n",
      "===========================================================================\n",
      "Build on <pyopencl.Device 'Intel(R) Core(TM) i7-6500U CPU @ 2.50GHz' on 'Intel(R) OpenCL' at 0x1a553202dc0> succeeded, but said:\n",
      "\n",
      "Compilation started\n",
      "Compilation done\n",
      "Linking started\n",
      "Linking done\n",
      "Device build started\n",
      "Device build done\n",
      "Kernel <func2> was successfully vectorized (8)\n",
      "Done.\n",
      "  warn(text, CompilerWarning)\n",
      "C:\\Users\\MKB\\Anaconda3\\lib\\site-packages\\pyopencl\\cffi_cl.py:1517: CompilerWarning: From-binary build succeeded, but resulted in non-empty logs:\n",
      "Build on <pyopencl.Device 'Intel(R) Core(TM) i7-6500U CPU @ 2.50GHz' on 'Intel(R) OpenCL' at 0x1a553202dc0> succeeded, but said:\n",
      "\n",
      "Device build started\n",
      "Device build done\n",
      "Reload Program Binary Object.\n",
      "  warn(text, CompilerWarning)\n"
     ]
    }
   ],
   "source": [
    "    #Transposition du centre de gravité\n",
    "    \n",
    "#PYOPENCL    \n",
    "U = np.int32(1)\n",
    "V=np.int32(40)\n",
    "\n",
    "#Nous réutilisons le même kernel que pour la transposition précédente\n",
    "WT= np.zeros([ U,V ]).astype(np.float32)\n",
    "mf = cl.mem_flags\n",
    "W_buf = cl.Buffer(ctx, mf.READ_ONLY | mf.COPY_HOST_PTR, hostbuf=W )\n",
    "WT_buf = cl.Buffer(ctx, mf.WRITE_ONLY, WT.nbytes)\n",
    "\n",
    "prg2 = cl.Program(ctx, kernel2).build()\n",
    "\n",
    "t7 = datetime.datetime.now()\n",
    "prg2.func2(queue, WT.shape, None, W_buf, WT_buf, U,V)\n",
    "WT = np.zeros([U, V]).astype(np.float32)\n",
    "cl.enqueue_copy(queue, WT, WT_buf)\n",
    "delta_t_GPU_transpo_W = datetime.datetime.now() - t7\n",
    "\n",
    "#PYTHON \n",
    "t8 = datetime.datetime.now()\n",
    "WT_CPU=np.transpose(W)\n",
    "delta_t_CPU_transpo_W = datetime.datetime.now() - t8\n",
    "\n",
    "print(delta_t_GPU_transpo_W)\n",
    "print(delta_t_CPU_transpo_W)"
   ]
  },
  {
   "cell_type": "markdown",
   "metadata": {},
   "source": [
    "Nous remarquons que sur la transposition, une fois de plus la GPU et la CPU sont tout aussi efficace.\n",
    "Maintenant que nous avons notre centre de gravité transposé, il s'agit de centrer nos variables par leur moyenne tel que $a - W^T$"
   ]
  },
  {
   "cell_type": "code",
   "execution_count": 12,
   "metadata": {},
   "outputs": [
    {
     "name": "stderr",
     "output_type": "stream",
     "text": [
      "C:\\Users\\MKB\\Anaconda3\\lib\\site-packages\\pyopencl\\cffi_cl.py:1517: CompilerWarning: Built kernel retrieved from cache. Original from-source build had warnings:\n",
      "Build on <pyopencl.Device 'Intel(R) HD Graphics 520' on 'Intel(R) OpenCL' at 0x1a552200e80> succeeded, but said:\n",
      "\n",
      "fcl build 1 succeeded.\n",
      "bcl build succeeded.\n",
      "===========================================================================\n",
      "Build on <pyopencl.Device 'Intel(R) Core(TM) i7-6500U CPU @ 2.50GHz' on 'Intel(R) OpenCL' at 0x1a553202dc0> succeeded, but said:\n",
      "\n",
      "Compilation started\n",
      "Compilation done\n",
      "Linking started\n",
      "Linking done\n",
      "Device build started\n",
      "Device build done\n",
      "Kernel <sub> was successfully vectorized (8)\n",
      "Done.\n",
      "  warn(text, CompilerWarning)\n",
      "C:\\Users\\MKB\\Anaconda3\\lib\\site-packages\\pyopencl\\cffi_cl.py:1517: CompilerWarning: From-binary build succeeded, but resulted in non-empty logs:\n",
      "Build on <pyopencl.Device 'Intel(R) Core(TM) i7-6500U CPU @ 2.50GHz' on 'Intel(R) OpenCL' at 0x1a553202dc0> succeeded, but said:\n",
      "\n",
      "Device build started\n",
      "Device build done\n",
      "Reload Program Binary Object.\n",
      "  warn(text, CompilerWarning)\n"
     ]
    },
    {
     "name": "stdout",
     "output_type": "stream",
     "text": [
      "0:00:32.270290\n",
      "0:00:00.015629\n"
     ]
    }
   ],
   "source": [
    "  ###Soustraction de la matrice d'origine par le vecteur de gravité transposé ce qui donne une matrice centrée \n",
    "    \n",
    "#PYOPENCL\n",
    "\n",
    "a_buf = cl.Buffer(ctx, mf.READ_ONLY | mf.COPY_HOST_PTR, hostbuf=a )\n",
    "WT_buf = cl.Buffer(ctx, mf.READ_ONLY | mf.COPY_HOST_PTR, hostbuf=WT )\n",
    "Centre_buf=cl.Buffer(ctx, mf.READ_ONLY | mf.COPY_HOST_PTR, hostbuf=a )\n",
    "Centre=np.zeros([width,height]).astype(np.float32)\n",
    "prg3 = cl.Program(ctx, \"\"\"\n",
    "    __kernel void sub(const unsigned int size, __global float * a, __global float * WT, __global float * Centre) {\n",
    "\n",
    "    int i = get_global_id(1); \n",
    "    int j = get_global_id(0);\n",
    "\n",
    "    Centre[i + size * j] = 0;\n",
    "\n",
    "    for (int k = 0; k < size; k++)\n",
    "    {\n",
    "       \n",
    "     Centre[i + size * j] += a[k + size * i] - WT[j + size * k];\n",
    "\n",
    "    }\n",
    "\n",
    "    }\n",
    "    \"\"\").build()\n",
    "\n",
    "t9 = datetime.datetime.now()\n",
    "prg3.sub(queue, a.shape, None,np.int32(len(a)) ,a_buf, WT_buf, Centre_buf)\n",
    "cl.enqueue_copy(queue, Centre, Centre_buf)\n",
    "delta_t_GPU_Centré = datetime.datetime.now() - t9\n",
    "\n",
    "\n",
    "#CPU\n",
    "\n",
    "t10 = datetime.datetime.now()\n",
    "Centre_CPU=a-WT\n",
    "delta_t_CPU_Centré = datetime.datetime.now() - t10\n",
    "\n",
    "print(delta_t_GPU_Centré)\n",
    "print(delta_t_CPU_Centré)"
   ]
  },
  {
   "cell_type": "markdown",
   "metadata": {},
   "source": [
    "Ici nous pouvons remarquer que le temps de calcul sur la GPU est beaucoup plus important que sur la CPU.\n",
    "Il s'agit maintenant de calculer la matrice de variance covariance tel que $Centre^T*D*Centre$\n",
    "\n",
    "Il faut donc dans un premier temps transposer la matrice centrée ensuite procéder à la multiplication"
   ]
  },
  {
   "cell_type": "markdown",
   "metadata": {},
   "source": [
    "## Calcul de la matrice de variance covariance"
   ]
  },
  {
   "cell_type": "code",
   "execution_count": 13,
   "metadata": {},
   "outputs": [
    {
     "name": "stdout",
     "output_type": "stream",
     "text": [
      "0:00:00.109388\n",
      "0:00:00\n"
     ]
    },
    {
     "name": "stderr",
     "output_type": "stream",
     "text": [
      "C:\\Users\\MKB\\Anaconda3\\lib\\site-packages\\pyopencl\\cffi_cl.py:1517: CompilerWarning: Built kernel retrieved from cache. Original from-source build had warnings:\n",
      "Build on <pyopencl.Device 'Intel(R) HD Graphics 520' on 'Intel(R) OpenCL' at 0x1a552200e80> succeeded, but said:\n",
      "\n",
      "fcl build 1 succeeded.\n",
      "bcl build succeeded.\n",
      "===========================================================================\n",
      "Build on <pyopencl.Device 'Intel(R) Core(TM) i7-6500U CPU @ 2.50GHz' on 'Intel(R) OpenCL' at 0x1a553202dc0> succeeded, but said:\n",
      "\n",
      "Compilation started\n",
      "Compilation done\n",
      "Linking started\n",
      "Linking done\n",
      "Device build started\n",
      "Device build done\n",
      "Kernel <func3> was successfully vectorized (8)\n",
      "Done.\n",
      "  warn(text, CompilerWarning)\n",
      "C:\\Users\\MKB\\Anaconda3\\lib\\site-packages\\pyopencl\\cffi_cl.py:1517: CompilerWarning: From-binary build succeeded, but resulted in non-empty logs:\n",
      "Build on <pyopencl.Device 'Intel(R) Core(TM) i7-6500U CPU @ 2.50GHz' on 'Intel(R) OpenCL' at 0x1a553202dc0> succeeded, but said:\n",
      "\n",
      "Device build started\n",
      "Device build done\n",
      "Reload Program Binary Object.\n",
      "  warn(text, CompilerWarning)\n"
     ]
    }
   ],
   "source": [
    "  ## Transposition de la matrice centrée\n",
    "\n",
    "#PYOPENCL    \n",
    "kernel4 = \"\"\" \n",
    "__kernel void func3(__global int* a, __global int* b, const unsigned int width, const unsigned int height) {\n",
    "    unsigned int i = get_global_id(0);\n",
    "    unsigned int j = get_global_id(1);\n",
    "    b[j + width * i] = a[i + height * j];\n",
    "} \n",
    "\n",
    "// fin de la transposition \"\"\"   \n",
    "\n",
    "Centre_T = np.zeros([height, width]).astype(np.float32)\n",
    "mf = cl.mem_flags\n",
    "Centre_buf = cl.Buffer(ctx, mf.READ_ONLY | mf.COPY_HOST_PTR, hostbuf=Centre )\n",
    "Centre_T_buf = cl.Buffer(ctx, mf.WRITE_ONLY, Centre.nbytes)\n",
    "\n",
    "\n",
    "prg5 = cl.Program(ctx, kernel4).build()\n",
    "\n",
    "t11 = datetime.datetime.now()\n",
    "prg5.func3(queue, Centre_T.shape, None, Centre_buf, Centre_T_buf, width, height)\n",
    "Centre_T = np.zeros([height, width]).astype(np.float32)\n",
    "cl.enqueue_copy(queue, Centre_T, Centre_T_buf)\n",
    "delta_t_GPU_Centré_Transpo = datetime.datetime.now() - t11\n",
    "\n",
    "#CPU\n",
    "t12 = datetime.datetime.now()\n",
    "Centre_T_CPU= np.transpose(Centre)\n",
    "delta_t_CPU_Centré_Transpo = datetime.datetime.now() - t12\n",
    "\n",
    "print(delta_t_GPU_Centré_Transpo)\n",
    "print(delta_t_CPU_Centré_Transpo)\n"
   ]
  },
  {
   "cell_type": "markdown",
   "metadata": {},
   "source": [
    "Nous constatons ici aussi un bien meilleur temps de calcul pour la CPU que la GPU.\n",
    "Procédons maintenant à la multiplication pour la matrice de vairance covariance, découpons ce calcul par une multiplication centré transposé et vecteur D. Le vecteur intermédiaire est de dimension (40,1) et le résultat final, la matrice de variance covariance est une matrice carré (40,40) "
   ]
  },
  {
   "cell_type": "code",
   "execution_count": 20,
   "metadata": {},
   "outputs": [
    {
     "name": "stdout",
     "output_type": "stream",
     "text": [
      "0:00:00\n",
      "0:00:00\n"
     ]
    },
    {
     "name": "stderr",
     "output_type": "stream",
     "text": [
      "C:\\Users\\MKB\\Anaconda3\\lib\\site-packages\\pyopencl\\cffi_cl.py:1517: CompilerWarning: Built kernel retrieved from cache. Original from-source build had warnings:\n",
      "Build on <pyopencl.Device 'Intel(R) HD Graphics 520' on 'Intel(R) OpenCL' at 0x1a552200e80> succeeded, but said:\n",
      "\n",
      "fcl build 1 succeeded.\n",
      "bcl build succeeded.\n",
      "===========================================================================\n",
      "Build on <pyopencl.Device 'Intel(R) Core(TM) i7-6500U CPU @ 2.50GHz' on 'Intel(R) OpenCL' at 0x1a553202dc0> succeeded, but said:\n",
      "\n",
      "Compilation started\n",
      "Compilation done\n",
      "Linking started\n",
      "Linking done\n",
      "Device build started\n",
      "Device build done\n",
      "Kernel <gemv> was successfully vectorized (8)\n",
      "Done.\n",
      "  warn(text, CompilerWarning)\n",
      "C:\\Users\\MKB\\Anaconda3\\lib\\site-packages\\pyopencl\\cffi_cl.py:1517: CompilerWarning: From-binary build succeeded, but resulted in non-empty logs:\n",
      "Build on <pyopencl.Device 'Intel(R) Core(TM) i7-6500U CPU @ 2.50GHz' on 'Intel(R) OpenCL' at 0x1a553202dc0> succeeded, but said:\n",
      "\n",
      "Device build started\n",
      "Device build done\n",
      "Reload Program Binary Object.\n",
      "  warn(text, CompilerWarning)\n"
     ]
    }
   ],
   "source": [
    "# Calcul de la matrice de variance covariance\n",
    "\n",
    "#1ère partie\n",
    "\n",
    "#PYOPENCL\n",
    "#Utilisons le Kernel3 de multiplication de matrice vecteur \n",
    "\n",
    "widthnew=height\n",
    "heightnew=width\n",
    "V1 = np.zeros([widthnew, 1]).astype(np.float32)\n",
    "mf = cl.mem_flags\n",
    "Centre_T_buf = cl.Buffer(ctx, mf.READ_ONLY | mf.COPY_HOST_PTR, hostbuf=Centre_T)\n",
    "diagT_buf = cl.Buffer(ctx, mf.READ_ONLY | mf.COPY_HOST_PTR, hostbuf=diagT)\n",
    "V1_buf = cl.Buffer(ctx, mf.WRITE_ONLY, heightnew*widthnew*4)\n",
    "prg6 = cl.Program(ctx, kernel3).build()\n",
    "\n",
    "\n",
    "prg6.gemv(queue, V1.shape, None\n",
    ", Centre_T_buf\n",
    ", diagT_buf\n",
    ", widthnew\n",
    ", heightnew, V1_buf)\n",
    "\n",
    "V1 = np.empty([widthnew, 1]).astype(np.float32)\n",
    "t13 = datetime.datetime.now()\n",
    "cl.enqueue_copy(queue, V1, V1_buf)\n",
    "delta_t_GPU_mul_2 = datetime.datetime.now() - t13\n",
    "\n",
    "\n",
    "#CPU\n",
    "t14 = datetime.datetime.now()\n",
    "V1= Centre_T.dot(diagT)\n",
    "delta_t_CPU_mul_2 = datetime.datetime.now() - t14\n",
    "\n",
    "print(delta_t_GPU_mul_2)\n",
    "print(delta_t_CPU_mul_2)"
   ]
  },
  {
   "cell_type": "markdown",
   "metadata": {},
   "source": [
    "Nous pouvons constater que le temps de calcul est équivalent pour la GPU et la CPU .Passons à la deuxième portion du calcul. N\n",
    "ous avons un vecteur de dim (40,1),une fois multiplié par la matrice centrée (25000,40), nous obtiendrons une matrice carrée "
   ]
  },
  {
   "cell_type": "code",
   "execution_count": 19,
   "metadata": {},
   "outputs": [
    {
     "name": "stdout",
     "output_type": "stream",
     "text": [
      "0:00:00.015629\n",
      "(40, 40)\n"
     ]
    },
    {
     "name": "stderr",
     "output_type": "stream",
     "text": [
      "C:\\Users\\MKB\\Anaconda3\\lib\\site-packages\\pyopencl\\cffi_cl.py:1517: CompilerWarning: Built kernel retrieved from cache. Original from-source build had warnings:\n",
      "Build on <pyopencl.Device 'Intel(R) HD Graphics 520' on 'Intel(R) OpenCL' at 0x1a552200e80> succeeded, but said:\n",
      "\n",
      "fcl build 1 succeeded.\n",
      "bcl build succeeded.\n",
      "===========================================================================\n",
      "Build on <pyopencl.Device 'Intel(R) Core(TM) i7-6500U CPU @ 2.50GHz' on 'Intel(R) OpenCL' at 0x1a553202dc0> succeeded, but said:\n",
      "\n",
      "Compilation started\n",
      "Compilation done\n",
      "Linking started\n",
      "Linking done\n",
      "Device build started\n",
      "Device build done\n",
      "Kernel <gemv2> was successfully vectorized (8)\n",
      "Done.\n",
      "  warn(text, CompilerWarning)\n",
      "C:\\Users\\MKB\\Anaconda3\\lib\\site-packages\\pyopencl\\cffi_cl.py:1517: CompilerWarning: From-binary build succeeded, but resulted in non-empty logs:\n",
      "Build on <pyopencl.Device 'Intel(R) Core(TM) i7-6500U CPU @ 2.50GHz' on 'Intel(R) OpenCL' at 0x1a553202dc0> succeeded, but said:\n",
      "\n",
      "Device build started\n",
      "Device build done\n",
      "Reload Program Binary Object.\n",
      "  warn(text, CompilerWarning)\n"
     ]
    },
    {
     "ename": "ValueError",
     "evalue": "shapes (40,1) and (25000,40) not aligned: 1 (dim 1) != 25000 (dim 0)",
     "output_type": "error",
     "traceback": [
      "\u001b[1;31m---------------------------------------------------------------------------\u001b[0m",
      "\u001b[1;31mValueError\u001b[0m                                Traceback (most recent call last)",
      "\u001b[1;32m<ipython-input-19-cd25b6e35abb>\u001b[0m in \u001b[0;36m<module>\u001b[1;34m()\u001b[0m\n\u001b[0;32m     50\u001b[0m \u001b[0mprint\u001b[0m\u001b[1;33m(\u001b[0m\u001b[0mV\u001b[0m\u001b[1;33m.\u001b[0m\u001b[0mshape\u001b[0m\u001b[1;33m)\u001b[0m\u001b[1;33m\u001b[0m\u001b[0m\n\u001b[0;32m     51\u001b[0m \u001b[1;33m\u001b[0m\u001b[0m\n\u001b[1;32m---> 52\u001b[1;33m \u001b[0mtest\u001b[0m\u001b[1;33m=\u001b[0m \u001b[0mV1\u001b[0m\u001b[1;33m.\u001b[0m\u001b[0mdot\u001b[0m\u001b[1;33m(\u001b[0m\u001b[0mCentre\u001b[0m\u001b[1;33m)\u001b[0m\u001b[1;33m\u001b[0m\u001b[0m\n\u001b[0m",
      "\u001b[1;31mValueError\u001b[0m: shapes (40,1) and (25000,40) not aligned: 1 (dim 1) != 25000 (dim 0)"
     ]
    }
   ],
   "source": [
    "#2ème partie\n",
    "\n",
    "#PYOPENCL\n",
    "\n",
    "kernel5= \"\"\"__kernel void gemv2(const __global float* V1,\n",
    "\n",
    "                                    const __global float* CENTRE,\n",
    "\n",
    "                                    uint widthnew, uint heightnew,\n",
    "\n",
    "                                    __global float* V)\n",
    "{ // Row index\n",
    "\n",
    "    uint y = get_global_id(0);\n",
    "    if (y < heightnew) {\n",
    "        // Row pointer\n",
    "        const __global float* row = V1 + y * widthnew;\n",
    "        // Compute dot product  \n",
    "        float dotProduct = 0;\n",
    "        for (int x = 0; x < widthnew; ++x)\n",
    "            dotProduct += row[x] * CENTRE[x];\n",
    "        // Write result to global memory\n",
    "        V[y] = dotProduct;\n",
    "    }\n",
    "}\n",
    "\"\"\"\n",
    "#fixons la nouvelle ligne égale à l'ancienne colonne et la nouvelle colonne à l'ancienne ligne\n",
    "widthnew=height\n",
    "heightnew=width\n",
    "V = np.zeros([widthnew, widthnew]).astype(np.float32)\n",
    "mf = cl.mem_flags\n",
    "V1_buf = cl.Buffer(ctx, mf.READ_ONLY | mf.COPY_HOST_PTR, hostbuf=V1)\n",
    "Centre_buf = cl.Buffer(ctx, mf.READ_ONLY | mf.COPY_HOST_PTR, hostbuf=Centre)\n",
    "V_buf = cl.Buffer(ctx, mf.WRITE_ONLY, widthnew*widthnew*4)\n",
    "prg7 = cl.Program(ctx, kernel5).build()\n",
    "\n",
    "t15 = datetime.datetime.now()\n",
    "prg7.gemv2(queue, V.shape, None\n",
    ", V1_buf\n",
    ", Centre_buf\n",
    ", widthnew\n",
    ", heightnew, V_buf)\n",
    "\n",
    "\n",
    "V = np.empty([widthnew, widthnew]).astype(np.float32)\n",
    "cl.enqueue_copy(queue, V, V_buf)\n",
    "delta_t_GPU_mul_3 = datetime.datetime.now() - t15\n",
    "\n",
    "print(delta_t_GPU_mul_3)\n",
    "print(V.shape)\n",
    "\n",
    "# Multiplication sur La CPU\n",
    "test= V1.dot(Centre)"
   ]
  },
  {
   "cell_type": "markdown",
   "metadata": {},
   "source": [
    "Remarquons que le calcul n'a pas pu être fait sur la CPU contrairement à la GPU"
   ]
  },
  {
   "cell_type": "markdown",
   "metadata": {},
   "source": [
    "## Conclusion"
   ]
  },
  {
   "cell_type": "code",
   "execution_count": 18,
   "metadata": {},
   "outputs": [
    {
     "name": "stdout",
     "output_type": "stream",
     "text": [
      "[[  2.00978137e+11              inf              inf ...,   0.00000000e+00\n",
      "    0.00000000e+00   0.00000000e+00]\n",
      " [  4.20389539e-44   0.00000000e+00   3.92363570e-44 ...,   5.89946653e-43\n",
      "    3.25913779e+12   5.89946653e-43]\n",
      " [  1.40129846e-45   1.96181785e-44   4.20389539e-44 ...,   5.89946653e-43\n",
      "    2.25132119e+14   5.89946653e-43]\n",
      " ..., \n",
      " [  1.27378597e+14   5.89946653e-43   1.27379133e+14 ...,   5.89946653e-43\n",
      "    1.27388797e+14   5.89946653e-43]\n",
      " [  1.27389334e+14   5.89946653e-43   1.27389871e+14 ...,   5.89946653e-43\n",
      "    1.27399535e+14   5.89946653e-43]\n",
      " [  1.27400071e+14   5.89946653e-43   1.27400608e+14 ...,   5.89946653e-43\n",
      "    1.27410809e+14   5.89946653e-43]]\n"
     ]
    }
   ],
   "source": [
    "#Nous obtenons bien avec la GPU une matrice carrée (40,40), nos variables avec un temps de calcul minime.\n",
    "#Affichons la matrice de variance covariance, sa diagonale nous renseigne sur la variance empirique de chacun des X. C'est \n",
    "#l'objet de l'ACP pour décider sur quels axes (2 dimension) projeter les données.\n",
    "\n",
    "print(V)\n"
   ]
  },
  {
   "cell_type": "markdown",
   "metadata": {},
   "source": [
    "Notons, qu'avec une opération sur CPU classique nous n'avons pas pu produire V à cause d'un problème de broadcast de la donnée.\n",
    "Intéressons nous au temps de calcul total pour la GPU et la CPU\n"
   ]
  },
  {
   "cell_type": "code",
   "execution_count": 21,
   "metadata": {
    "collapsed": true
   },
   "outputs": [],
   "source": [
    "#GPU\n",
    "Temps_GPU= delta_t_GPU_transpo_diag + delta_t_GPU_transpo_a + delta_t_GPU_mul_1+ delta_t_GPU_transpo_W + delta_t_GPU_Centré + delta_t_GPU_Centré_Transpo + delta_t_GPU_mul_2 + delta_t_GPU_mul_3\n",
    "\n",
    "#CPU\n",
    "Temps_CPU= delta_t_CPU_transpo_diag + delta_t_CPU_transpo_a + delta_t_CPU_mul_1+ delta_t_CPU_transpo_W + delta_t_CPU_Centré + delta_t_CPU_Centré_Transpo + delta_t_CPU_mul_2 \n",
    " \n",
    "\n"
   ]
  },
  {
   "cell_type": "code",
   "execution_count": 22,
   "metadata": {},
   "outputs": [
    {
     "name": "stdout",
     "output_type": "stream",
     "text": [
      "0:00:32.520314\n",
      "0:00:00.078136\n"
     ]
    }
   ],
   "source": [
    "print(Temps_GPU)\n",
    "print(Temps_CPU)"
   ]
  },
  {
   "cell_type": "code",
   "execution_count": null,
   "metadata": {
    "collapsed": true
   },
   "outputs": [],
   "source": [
    "Nous pouvons nous rendre compte que le temps de calcul CPU est beaucoup moins important que la GPU, il ressort clairement que \n",
    "les codes GPU nécessitent une optimisation "
   ]
  },
  {
   "cell_type": "code",
   "execution_count": null,
   "metadata": {
    "collapsed": true
   },
   "outputs": [],
   "source": []
  }
 ],
 "metadata": {
  "kernelspec": {
   "display_name": "Python 3",
   "language": "python",
   "name": "python3"
  },
  "language_info": {
   "codemirror_mode": {
    "name": "ipython",
    "version": 3
   },
   "file_extension": ".py",
   "mimetype": "text/x-python",
   "name": "python",
   "nbconvert_exporter": "python",
   "pygments_lexer": "ipython3",
   "version": "3.6.3"
  }
 },
 "nbformat": 4,
 "nbformat_minor": 2
}
